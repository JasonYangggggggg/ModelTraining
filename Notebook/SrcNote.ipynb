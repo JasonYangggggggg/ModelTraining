{
 "cells": [
  {
   "cell_type": "code",
   "execution_count": 2,
   "id": "910ce358",
   "metadata": {},
   "outputs": [],
   "source": [
    "import torch\n",
    "import torchvision\n",
    "import torchvision.transforms as transforms\n",
    "import numpy as np\n",
    "from collections import defaultdict\n",
    "import random\n",
    "import cv2"
   ]
  },
  {
   "cell_type": "code",
   "execution_count": 3,
   "id": "e27f8a17",
   "metadata": {},
   "outputs": [],
   "source": [
    "transform = transforms.Compose([\n",
    "    transforms.ToTensor(),\n",
    "])"
   ]
  },
  {
   "cell_type": "code",
   "execution_count": 4,
   "id": "08068883",
   "metadata": {},
   "outputs": [
    {
     "name": "stdout",
     "output_type": "stream",
     "text": [
      "Files already downloaded and verified\n",
      "Files already downloaded and verified\n"
     ]
    }
   ],
   "source": [
    "Traindataset = torchvision.datasets.CIFAR10(root='./dataset', train=True, download=True, transform=transform)\n",
    "# for training need train and test set\n",
    "Testdataset =  torchvision.datasets.CIFAR10(root='./dataset', train=True, download=True, transform=transform)"
   ]
  },
  {
   "cell_type": "code",
   "execution_count": 5,
   "id": "fd0fac86",
   "metadata": {},
   "outputs": [],
   "source": [
    "CompleteData = torch.utils.data.ConcatDataset([Traindataset, Testdataset])"
   ]
  },
  {
   "cell_type": "code",
   "execution_count": 6,
   "id": "24b58c4a",
   "metadata": {
    "scrolled": true
   },
   "outputs": [
    {
     "name": "stdout",
     "output_type": "stream",
     "text": [
      "airplane : 100\n",
      "horse : 100\n",
      "bird : 100\n",
      "cat : 100\n",
      "deer : 100\n"
     ]
    }
   ],
   "source": [
    "# order of the CIFAR10 found online\n",
    "class_labels = ['airplane', 'automobile', 'bird', 'cat', 'deer', 'dog', 'frog', 'horse', 'ship', 'truck']\n",
    "ClassSelected = ['airplane', 'horse', 'bird', 'cat', 'deer']\n",
    "Class_data = defaultdict(list)\n",
    "for i in CompleteData:\n",
    "    # check overall image size to see if all class have 100 data, if yes break out the loop\n",
    "    if all(len(Class_data[count]) >= 100 for count in ClassSelected):\n",
    "        break\n",
    "    else:\n",
    "        image, labelName = i\n",
    "        className = class_labels[labelName]\n",
    "        if className in ClassSelected:\n",
    "            # do not append if a single class has more than 100 data \n",
    "            if len(Class_data[className]) < 100 :\n",
    "                Class_data[className].append(image.numpy())\n",
    "        \n",
    "            \n",
    "for name in ClassSelected:\n",
    "    Class_data[name] = np.array(Class_data[name])\n",
    "    print(f\"{name} : {Class_data[name].shape[0]}\")"
   ]
  },
  {
   "cell_type": "code",
   "execution_count": 10,
   "id": "44f712a6",
   "metadata": {},
   "outputs": [],
   "source": [
    "# just to check if the image is correct for each label\n",
    "for class_name in ClassSelected:\n",
    "    image = Class_data[class_name][0]\n",
    "    image = np.transpose(image, (1, 2, 0))\n",
    "    image = cv2.cvtColor(image, cv2.COLOR_RGB2BGR)\n",
    "   \n",
    "    cv2.imshow(class_name, image)\n",
    "    cv2.waitKey(0)\n",
    "\n",
    "cv2.destroyAllWindows() "
   ]
  },
  {
   "cell_type": "code",
   "execution_count": null,
   "id": "77e5c1d4",
   "metadata": {},
   "outputs": [],
   "source": []
  }
 ],
 "metadata": {
  "kernelspec": {
   "display_name": "Python 3 (ipykernel)",
   "language": "python",
   "name": "python3"
  },
  "language_info": {
   "codemirror_mode": {
    "name": "ipython",
    "version": 3
   },
   "file_extension": ".py",
   "mimetype": "text/x-python",
   "name": "python",
   "nbconvert_exporter": "python",
   "pygments_lexer": "ipython3",
   "version": "3.11.5"
  }
 },
 "nbformat": 4,
 "nbformat_minor": 5
}
